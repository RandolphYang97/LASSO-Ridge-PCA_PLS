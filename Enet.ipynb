{
 "cells": [
  {
   "cell_type": "markdown",
   "metadata": {},
   "source": [
    "*    This program runs a Ridge regression\n",
    "*                  y = a + b_1 x_1 + b_2 x_2 + ... + b_n x_n  + e\n",
    "*   the objective function is to minimize\n",
    "*          (1 / (2 * n_samples)) * ||y - X*B||^2_2 +  alpha * l1_ratio * ||w||_1\n",
    "*                                   + 0.5 * alpha * (1 - l1_ratio) * ||w||^2_2"
   ]
  },
  {
   "cell_type": "code",
   "execution_count": null,
   "metadata": {},
   "outputs": [],
   "source": [
    "import numpy as np\n",
    "from sklearn.linear_model import LinearRegression\n",
    "\n",
    "np.random.seed(1234)                       # allows we get the same results each time\n",
    "                                        # and allow use the same data in Ridge \n",
    "                                        \n",
    "n = 15\n",
    "x = np.random.randn(100,n)               # Generate x's from N(0,1)\n",
    "b = np.zeros((n,1))                      # To store the coefficients\n",
    "\n",
    "b[2]= 1                                  # assume 2 true nonzero coefficients\n",
    "b[4] = -0.8\n",
    "\n",
    "y = np.matmul(x,b) + np.random.randn(100,1)*0.5     # the simulated y's \n",
    "y.shape = (100,)\n",
    "\n",
    "#  Traditional OLS regression analysis\n",
    "\n",
    "reg = LinearRegression()                        # shorthand the regression function\n",
    "reg.fit(x, y)                        # runs a traditional regression of y on x\n",
    "\n",
    "print(reg.intercept_)          # the intercept\n",
    "print(reg.coef_)                    # the slopes \n",
    " "
   ]
  },
  {
   "cell_type": "code",
   "execution_count": null,
   "metadata": {},
   "outputs": [],
   "source": [
    "# A simple Ridge with a given alpha\n",
    "\n",
    "from sklearn import linear_model\n",
    "\n",
    "alpha = 0.5\n",
    "l1_ratio = 0.5\n",
    "\n",
    "from sklearn.linear_model import ElasticNet\n",
    "\n",
    "enet = linear_model.ElasticNet(alpha,l1_ratio)\n",
    "enet.fit(x,y)\n",
    "\n",
    "print(enet.intercept_)          # the intercept\n",
    "print(enet.coef_)                    # the slopes "
   ]
  },
  {
   "cell_type": "code",
   "execution_count": null,
   "metadata": {},
   "outputs": [],
   "source": [
    "# A simple Lasso with a vector of alpha\n",
    "\n",
    "m = 3\n",
    "sequ = np.arange(m) + 1                # create a vector (1, 2, 3, ...,m)\n",
    "alpha = sequ / m                     # alpha = (1/m, 2/m, 3/m, ...,1)\n",
    " \n",
    "for i in range (m):\n",
    "    enet = linear_model.Ridge(alpha[i], l1_ratio)\n",
    "    enet.fit(x,y)\n",
    "    print(alpha[i])\n",
    "    print(enet.intercept_)            # the intercept\n",
    "    print(enet.coef_)                    # the slopes "
   ]
  },
  {
   "cell_type": "code",
   "execution_count": null,
   "metadata": {},
   "outputs": [],
   "source": [
    "#  Which alpha to choose? \n",
    "\n",
    "from sklearn.linear_model import RidgeCV\n",
    "\n",
    "xx = np.array(x)  \n",
    "yy = y  \n",
    " \n",
    "RCV = RidgeCV(cv=5).fit(xx, yy)\n",
    "\n",
    "print(RCV.alpha_) \n",
    "print(RCV.intercept_)            # the intercept\n",
    "print(RCV.coef_)       \n",
    " "
   ]
  },
  {
   "cell_type": "code",
   "execution_count": null,
   "metadata": {},
   "outputs": [],
   "source": [
    "# Double Check \n",
    "\n",
    "alpha = RCV.alpha_\n",
    "\n",
    "ridge = linear_model.Ridge(alpha)\n",
    "ridge.fit(x,y)\n",
    "\n",
    "print(ridge.intercept_)          # the intercept\n",
    "print(ridge.coef_)                    # the slopes "
   ]
  },
  {
   "cell_type": "code",
   "execution_count": null,
   "metadata": {},
   "outputs": [],
   "source": []
  }
 ],
 "metadata": {
  "anaconda-cloud": {},
  "celltoolbar": "Raw Cell Format",
  "kernelspec": {
   "display_name": "Python 3",
   "language": "python",
   "name": "python3"
  },
  "language_info": {
   "codemirror_mode": {
    "name": "ipython",
    "version": 3
   },
   "file_extension": ".py",
   "mimetype": "text/x-python",
   "name": "python",
   "nbconvert_exporter": "python",
   "pygments_lexer": "ipython3",
   "version": "3.7.6"
  }
 },
 "nbformat": 4,
 "nbformat_minor": 1
}
