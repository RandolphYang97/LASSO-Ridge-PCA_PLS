{
 "cells": [
  {
   "cell_type": "markdown",
   "metadata": {},
   "source": [
    "*  This program computes \n",
    "*   1) in-sample ^2\n",
    "*   2) out-of-sample R^2  \n",
    "*  in the predictive regression based on 14 economic predictors \n",
    "*  from Goyal's web: http://www.hec.unil.ch/agoyal/ "
   ]
  },
  {
   "cell_type": "code",
   "execution_count": 1,
   "metadata": {},
   "outputs": [],
   "source": [
    "import pandas as pd                     # To load data, we use the package pandas\n",
    "import numpy as np\n",
    "import statsmodels.api as sm                  # We use this package to do statical estimation\n",
    "import statsmodels.formula.api as smf\n",
    "\n",
    "\n",
    "# Load the data and define variables, 1926:12-2010:12\n",
    " \n",
    "df = pd.read_excel('Returns_handbook_Python_data.xlsx', 'Monthly')    # Monthly is the name of Sheet1\n",
    "\n",
    "\n",
    "   # Market risk premium\n",
    "market_return = np.array(df.loc[672 : 1679, \"CRSP S&P 500 value-weighted return with dividends\"])\n",
    "                                        # 671th row is 1927:01 in the data \n",
    "                                       # Excel row is 673 bc/ Python does not count header and starts from 0\n",
    "r_f_lag = np.array(df.loc[671 : 1678, \"Risk-free rate\"])\n",
    "equity_premium = market_return - r_f_lag     # excess return\n",
    "\n",
    "   # Predictors \n",
    "\n",
    "D12 = np.array(df.loc[671 : 1678,   \"12-month moving sum of S&P 500 dividends\"]); # dividends\n",
    "SP500 = np.array(df.loc[671 : 1678, \"S&P 500 index\"]);\n",
    "DP = np.log(D12) - np.log(SP500);                                # log dividend-price ratio\n",
    "SP500_lag = np.array(df.loc[671 : 1678, \"S&P 500 index\"]);   # S&P 500 index, lagged (1926:12-2010:11)\n",
    "DY = np.log(D12) - np.log(SP500_lag);       # log dividend yield\n",
    "E12 = np.array(df.loc[671 : 1678,      \"12-month moving sum of S&P 500 earnings\"]); # earnings\n",
    "EP = np.log(E12) - np.log(SP500);       # log earnings-price ratio\n",
    "DE = np.log(D12) - np.log(E12);        # log dividend-payout ratio\n",
    "SVAR = np.array(df.loc[671 : 1678, \"Monthly sum of squared daily returns on S&P 500 index\"]); # volatility\n",
    "BM = np.array(df.loc[671 : 1678, \"DJIA book-to-market value ratio\"]);   # book-to-market ratio\n",
    "NTIS = np.array(df.loc[671 : 1678, \"Net equity expansion\"]); # net equity issuing activity\n",
    "TBL = np.array(df.loc[671 : 1678, \"3-month Treasury bill yield (secondary market)\"]); # T-bill rate\n",
    "LTY = np.array(df.loc[671 : 1678, \"Long-term government bond yield\"]); # long-term government bond yield\n",
    "LTR = np.array(df.loc[671 : 1678, \"Long-term government bond return\"]); # long-term government bond return\n",
    "TMS = LTY - TBL; # term spread\n",
    "AAA = np.array(df.loc[671 : 1678, \"Moodys AAA-rated corporate bond yield\"]); # AAA-rated corporate bond yield\n",
    "BAA = np.array(df.loc[671 : 1678, \"Moodys BAA-rated corporate bond yield\"]); # BAA-rated corporate bond yield\n",
    "DFY = BAA - AAA; # default yield spread\n",
    "CORPR = np.array(df.loc[671 : 1678, \"Long-term corporate bond return\"]); # long-term corporate bond return\n",
    "DFR = CORPR - LTR; # default return spread\n",
    "INFL_lag = np.array(df.loc[671 : 1678, \"CPI (all urban consumers) inflation rate\"]); # inflation, lagged (1926:12-2010:11)"
   ]
  },
  {
   "cell_type": "code",
   "execution_count": 2,
   "metadata": {},
   "outputs": [
    {
     "name": "stdout",
     "output_type": "stream",
     "text": [
      " Slope, t-value, Adjusted R-sqaured   \n",
      "\n",
      "[[ 8.71690626e-03  2.23407276e+00  3.94769168e-03]\n",
      " [ 8.71690626e-03  2.23407276e+00  3.94769168e-03]\n",
      " [ 8.79402795e-03  2.12372722e+00  3.47370786e-03]\n",
      " [ 1.75690485e-03  3.22423810e-01 -8.90606662e-04]\n",
      " [-2.16752038e-01 -6.16069360e-01 -6.16525394e-04]\n",
      " [ 1.95321487e-02  2.95791580e+00  7.63663115e-03]\n",
      " [-1.44982499e-01 -2.02180170e+00  3.05684563e-03]\n",
      " [-9.68401754e-02 -1.68850653e+00  1.83481425e-03]\n",
      " [-7.51328677e-02 -1.19804056e+00  4.32088482e-04]\n",
      " [ 1.11515491e-01  1.51476612e+00  1.28386735e-03]\n",
      " [ 1.85987941e-01  1.38414062e+00  9.08652495e-04]\n",
      " [ 4.09313656e-01  1.66105113e+00  1.74381662e-03]\n",
      " [ 1.37088077e-01  1.02480437e+00  4.98723851e-05]\n",
      " [-4.94960157e-01 -1.48893255e+00  1.20700230e-03]]\n"
     ]
    }
   ],
   "source": [
    "# Compute Computing regression slope and R^2 \n",
    "\n",
    " \n",
    "N = 14;                             \n",
    "T = 1008  \n",
    "ECON = np.vstack((DP, DY, EP, DE, SVAR, BM, NTIS, TBL, LTY, LTR, TMS, DFY, DFR, INFL_lag)).T; \n",
    "                            # print(ECON.shape), one should get (1008* 14)\n",
    "\n",
    "y = np.array(equity_premium)\n",
    "y.shape = (T,1)                 # make sure the dimentionality\n",
    "\n",
    "onesT= np.ones((T,1))          # The constant part\n",
    "\n",
    "coeff = np.ones((N,2))           # to store all the alphas and betas\n",
    "tValues = np.ones((N,2))  \n",
    "R2a = np.ones((N,1))\n",
    "\n",
    "for i in range(N):\n",
    "    x = ECON[:,i]                       # i-th predictor \n",
    "    x = np.array(x)\n",
    "    x.shape = (T,1)\n",
    "    xx = np.hstack((onesT, x))          # add the constant part to x\n",
    "    reg = sm.OLS(endog=y, exog=xx)\n",
    "    results = reg.fit()\n",
    "    coeff[i,:] = results.params           # paramter estimates, output of sm.OLS\n",
    "    tValues[i,:] = results.tvalues\n",
    "    R2a[i] = results.rsquared_adj\n",
    "\n",
    "slope = coeff[:,1].reshape(-1, 1)             # another to make it N by 1 vector\n",
    "slopeTvalue = tValues[:,1].reshape(-1, 1)\n",
    " \n",
    "Output = np.hstack((slope,slopeTvalue, R2a))\n",
    "print(' Slope, t-value, Adjusted R-sqaured   \\n')\n",
    "print(Output)"
   ]
  },
  {
   "cell_type": "code",
   "execution_count": 3,
   "metadata": {},
   "outputs": [],
   "source": [
    "#==============================================================================\n",
    "# Define a function to calculate OOS R2\n",
    "#==============================================================================\n",
    "def R2OOS(r_real, r_hat, r_bar):\n",
    "    denominator_res=(r_real-r_bar)**2\n",
    "    denominator=np.sum(denominator_res)\n",
    "    numerator_res=(r_real-r_hat)**2\n",
    "    numerator=np.sum(numerator_res)\n",
    "    r2oos=1-numerator/denominator   \n",
    "    return r2oos"
   ]
  },
  {
   "cell_type": "code",
   "execution_count": 4,
   "metadata": {},
   "outputs": [
    {
     "name": "stdout",
     "output_type": "stream",
     "text": [
      " Out-of-sample R^2 in % \n",
      "\n",
      "[[-0.02110615]\n",
      " [-0.02110615]\n",
      " [-0.0735914 ]\n",
      " [-0.00552625]\n",
      " [-0.00040377]\n",
      " [-0.04149747]\n",
      " [-0.01600652]\n",
      " [-0.01224885]\n",
      " [-0.02249995]\n",
      " [-0.00545114]\n",
      " [-0.00603053]\n",
      " [-0.00671591]\n",
      " [-0.00966326]\n",
      " [-0.0021698 ]]\n"
     ]
    }
   ],
   "source": [
    "r2oos = []\n",
    "training_period = 120 # use the first 10 year's data as training data set\n",
    "\n",
    "for i in range(N):\n",
    "    x = ECON[:,i]  # i-th indicator\n",
    "    y_hat = []     # create a variable to collect prediction\n",
    "    y_bar = []     # create a variable to collect rolling average\n",
    "    for j in range(training_period,len(x)):    \n",
    "        rhs = x[:j-1]              # from 0 to j-1 as explantory variable\n",
    "        rhs = sm.add_constant(rhs) # add constant 1 to rhs variable\n",
    "        lhs = y[1:j]               # from 1 to j as explained variable\n",
    "        reg = sm.OLS(endog=lhs, exog=rhs)\n",
    "        result = reg.fit()\n",
    "        y_hat.append(result.fittedvalues[-1]) # use the last fitted values as the rolling out-of-sample prediction\n",
    "        y_bar.append(np.mean(lhs))            # use the rolling average as the out-of-sample average prediction\n",
    "    \n",
    "    y_hat = np.array(y_hat)\n",
    "    y_bar = np.array(y_bar)\n",
    "    y_real = y[-len(y_hat):]\n",
    "    r2oos.append(R2OOS(y_real, y_hat, y_bar))\n",
    "\n",
    "r2oos = np.array(r2oos)\n",
    "r2oos.shape = (N,1)\n",
    "\n",
    "print(' Out-of-sample R^2 in % \\n')\n",
    "print(r2oos)"
   ]
  }
 ],
 "metadata": {
  "anaconda-cloud": {},
  "kernelspec": {
   "display_name": "Python 3",
   "language": "python",
   "name": "python3"
  },
  "language_info": {
   "codemirror_mode": {
    "name": "ipython",
    "version": 3
   },
   "file_extension": ".py",
   "mimetype": "text/x-python",
   "name": "python",
   "nbconvert_exporter": "python",
   "pygments_lexer": "ipython3",
   "version": "3.7.6"
  }
 },
 "nbformat": 4,
 "nbformat_minor": 4
}
